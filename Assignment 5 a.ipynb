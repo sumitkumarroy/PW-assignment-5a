{
 "cells": [
  {
   "cell_type": "code",
   "execution_count": 1,
   "id": "9cbd30cb",
   "metadata": {},
   "outputs": [
    {
     "data": {
      "text/plain": [
       "' \\n1.  what is exception?\\nan exception is an event that occurs during the execution of a program that disrupts the normal flow of instructions.\\nWhen a Python script encounters an error, it raises an exception, which can be caught and handled by the programmer.\\nExceptions are a way to deal with errors and unexpected situations in a more controlled manner.\\n\\n\\ndifference detween exception and syntex error?\\nException \\n# An exception is a runtime error that occurs during the execution of a program.\\n# Exceptions can be caught and handled using try, except, else, and finally blocks, \\n  allowing the program to gracefully handle errors and continue execution.\\n  \\nSyntex error\\n# A syntax error occurs during the parsing of the Python code. \\n  It is a fundamental error that prevents the interpreter from understanding the script.\\n# The program cannot run until syntax errors are fixed, and they need to be addressed during the development phase.\\n'"
      ]
     },
     "execution_count": 1,
     "metadata": {},
     "output_type": "execute_result"
    }
   ],
   "source": [
    "''' \n",
    "1.  what is exception?\n",
    "an exception is an event that occurs during the execution of a program that disrupts the normal flow of instructions.\n",
    "When a Python script encounters an error, it raises an exception, which can be caught and handled by the programmer.\n",
    "Exceptions are a way to deal with errors and unexpected situations in a more controlled manner.\n",
    "\n",
    "\n",
    "difference detween exception and syntex error?\n",
    "Exception \n",
    "# An exception is a runtime error that occurs during the execution of a program.\n",
    "# Exceptions can be caught and handled using try, except, else, and finally blocks, \n",
    "  allowing the program to gracefully handle errors and continue execution.\n",
    "  \n",
    "Syntex error\n",
    "# A syntax error occurs during the parsing of the Python code. \n",
    "  It is a fundamental error that prevents the interpreter from understanding the script.\n",
    "# The program cannot run until syntax errors are fixed, and they need to be addressed during the development phase.\n",
    "'''"
   ]
  },
  {
   "cell_type": "code",
   "execution_count": 2,
   "id": "1886849b",
   "metadata": {},
   "outputs": [
    {
     "ename": "ZeroDivisionError",
     "evalue": "division by zero",
     "output_type": "error",
     "traceback": [
      "\u001b[1;31m---------------------------------------------------------------------------\u001b[0m",
      "\u001b[1;31mZeroDivisionError\u001b[0m                         Traceback (most recent call last)",
      "Cell \u001b[1;32mIn[2], line 12\u001b[0m\n\u001b[0;32m      9\u001b[0m     result \u001b[38;5;241m=\u001b[39m a \u001b[38;5;241m/\u001b[39m b\n\u001b[0;32m     10\u001b[0m     \u001b[38;5;28;01mreturn\u001b[39;00m result\n\u001b[1;32m---> 12\u001b[0m result \u001b[38;5;241m=\u001b[39m divide_numbers(\u001b[38;5;241m10\u001b[39m, \u001b[38;5;241m0\u001b[39m)\n\u001b[0;32m     14\u001b[0m \u001b[38;5;28mprint\u001b[39m(\u001b[38;5;124m\"\u001b[39m\u001b[38;5;124mThis line will not be reached.\u001b[39m\u001b[38;5;124m\"\u001b[39m)\n",
      "Cell \u001b[1;32mIn[2], line 9\u001b[0m, in \u001b[0;36mdivide_numbers\u001b[1;34m(a, b)\u001b[0m\n\u001b[0;32m      8\u001b[0m \u001b[38;5;28;01mdef\u001b[39;00m \u001b[38;5;21mdivide_numbers\u001b[39m(a, b):\n\u001b[1;32m----> 9\u001b[0m     result \u001b[38;5;241m=\u001b[39m a \u001b[38;5;241m/\u001b[39m b\n\u001b[0;32m     10\u001b[0m     \u001b[38;5;28;01mreturn\u001b[39;00m result\n",
      "\u001b[1;31mZeroDivisionError\u001b[0m: division by zero"
     ]
    }
   ],
   "source": [
    "'''\n",
    "2. what happen when an exception is not handled? explain with an example?\n",
    "When an exception is not handled in Python, it results in the program being terminated, and an error message (stack trace) is \n",
    "printed to the console. This abrupt termination can leave the program in an inconsistent or incomplete state, and it may not\n",
    "perform as expected.\n",
    "'''\n",
    "#example\n",
    "def divide_numbers(a, b):\n",
    "    result = a / b\n",
    "    return result\n",
    "\n",
    "result = divide_numbers(10, 0)\n",
    "\n",
    "print(\"This line will not be reached.\")\n"
   ]
  },
  {
   "cell_type": "code",
   "execution_count": 3,
   "id": "34c6054f",
   "metadata": {},
   "outputs": [
    {
     "name": "stdout",
     "output_type": "stream",
     "text": [
      "Cannot divide by zero!\n",
      "This will always be executed.\n"
     ]
    }
   ],
   "source": [
    "'''\n",
    "3. Which python statement are used to catch and handle exception explain with an example?\n",
    "In Python, the try, except, else, and finally statements are used to catch and handle exceptions. These statements provide a \n",
    "way to gracefully handle errors and unexpected situations in your code.\n",
    "'''\n",
    "\n",
    "#Example\n",
    "   \n",
    "try:\n",
    "    result = 10 / 0  # This will not raise an exception\n",
    "except ZeroDivisionError:\n",
    "    print(\"Cannot divide by zero!\")\n",
    "else:\n",
    "    print(\"The result is:\", result)\n",
    "finally:\n",
    "    print(\"This will always be executed.\")\n",
    "    \n",
    "    \n",
    "\n"
   ]
  },
  {
   "cell_type": "code",
   "execution_count": 4,
   "id": "c7930ab4",
   "metadata": {},
   "outputs": [
    {
     "name": "stdout",
     "output_type": "stream",
     "text": [
      "The result is: 2.0\n",
      "This will always be executed.\n"
     ]
    }
   ],
   "source": [
    "#   4.\n",
    "\n",
    "    \n",
    "try:\n",
    "    result = 10 / 5  # This will not raise an exception\n",
    "except ZeroDivisionError:\n",
    "    print(\"Cannot divide by zero!\")\n",
    "else:\n",
    "    print(\"The result is:\", result)\n",
    "finally:\n",
    "    print(\"This will always be executed.\")"
   ]
  },
  {
   "cell_type": "code",
   "execution_count": 5,
   "id": "3c07dc69",
   "metadata": {},
   "outputs": [
    {
     "data": {
      "text/plain": [
       "\"\\n5&6. Write to what are custom exception in python why do we need custom exception explain with an example\\n\\ncostum exception are specific exception which are also called user defined exception. These are used in such cases where \\nbuilt-in excepyion doesn't explain nature of error we want to handle.\\n\\nExample:\\nif we want only specific persons to enter a building so we can create a exception class where we can tell other persons that \\nthey are not allowed to enter the building. here built in functions can handle these exceptions.\\n\""
      ]
     },
     "execution_count": 5,
     "metadata": {},
     "output_type": "execute_result"
    }
   ],
   "source": [
    "'''\n",
    "5&6. Write to what are custom exception in python why do we need custom exception explain with an example\n",
    "\n",
    "costum exception are specific exception which are also called user defined exception. These are used in such cases where \n",
    "built-in excepyion doesn't explain nature of error we want to handle.\n",
    "\n",
    "Example:\n",
    "if we want only specific persons to enter a building so we can create a exception class where we can tell other persons that \n",
    "they are not allowed to enter the building. here built in functions can handle these exceptions.\n",
    "'''\n",
    "\n"
   ]
  },
  {
   "cell_type": "code",
   "execution_count": 6,
   "id": "7411f4c9",
   "metadata": {},
   "outputs": [
    {
     "name": "stdout",
     "output_type": "stream",
     "text": [
      "H can enter the Building\n",
      "Error:M is not alloed to enter the Building\n"
     ]
    }
   ],
   "source": [
    "'''\n",
    "6. Example of custopn exception\n",
    "\n",
    "'''\n",
    "class not_allowed(Exception):\n",
    "    def __init__(self,XYZ):\n",
    "        self.XYZ = XYZ\n",
    "        super().__init__(f\"Error:{XYZ} is not alloed to enter the Building\")\n",
    "\n",
    "        \n",
    "def enter(XYZ):\n",
    "    if XYZ in ['H', 'B' , 'C', 'J', 'S']:\n",
    "        print(f\"{XYZ} can enter the Building\")\n",
    "        \n",
    "    else:\n",
    "        raise not_allowed(XYZ)\n",
    "        \n",
    "try:\n",
    "    enter('H')\n",
    "    enter('M')\n",
    "    \n",
    "except not_allowed as e:\n",
    "    print(e)"
   ]
  },
  {
   "cell_type": "code",
   "execution_count": null,
   "id": "518d51fd",
   "metadata": {},
   "outputs": [],
   "source": []
  }
 ],
 "metadata": {
  "kernelspec": {
   "display_name": "Python 3 (ipykernel)",
   "language": "python",
   "name": "python3"
  },
  "language_info": {
   "codemirror_mode": {
    "name": "ipython",
    "version": 3
   },
   "file_extension": ".py",
   "mimetype": "text/x-python",
   "name": "python",
   "nbconvert_exporter": "python",
   "pygments_lexer": "ipython3",
   "version": "3.11.4"
  }
 },
 "nbformat": 4,
 "nbformat_minor": 5
}
